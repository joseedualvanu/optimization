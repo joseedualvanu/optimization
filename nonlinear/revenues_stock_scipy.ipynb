{
 "cells": [
  {
   "cell_type": "code",
   "execution_count": null,
   "id": "53ec9817-1307-4250-9d34-54156399b797",
   "metadata": {},
   "outputs": [],
   "source": [
    "# The primary purpose of this code is to find the values of the decision variables x1, x2, and x3 that minimize a quadratic objective function, \n",
    "# subject to the constraint that the linear combination of these variables does not exceed a specified threshold. \n",
    "# Such optimization problems are common in various fields, including engineering, finance, and data analysis, \n",
    "# where quadratic programming is used to model and solve real-world optimization problems.\n",
    "from scipy.optimize import minimize"
   ]
  },
  {
   "cell_type": "code",
   "execution_count": null,
   "id": "f52ef7df-8b8a-4b41-aa19-4f7eae59f5ad",
   "metadata": {},
   "outputs": [],
   "source": [
    "# Define the objective function\n",
    "def objective(x):\n",
    "    x1, x2, x3 = x\n",
    "    return 100 * x1**2 + 1600 * x2**2 + 100 * x3**2"
   ]
  },
  {
   "cell_type": "code",
   "execution_count": null,
   "id": "1b56eea7-270a-483e-8171-7968bd1cdf03",
   "metadata": {},
   "outputs": [],
   "source": [
    "# Define the inequality constraint function\n",
    "def constraint(x):\n",
    "    x1, x2, x3 = x\n",
    "    return [50 * x1 + 40 * x2 + 25 * x3 - 100000]"
   ]
  },
  {
   "cell_type": "code",
   "execution_count": null,
   "id": "6cba5c78-0997-4aca-94d1-f033192e6cfa",
   "metadata": {},
   "outputs": [],
   "source": [
    "# Define the initial guess and bounds\n",
    "initial_guess = [0, 0, 0]\n",
    "bounds = [(0, None), (0, None), (0, None)]"
   ]
  },
  {
   "cell_type": "code",
   "execution_count": null,
   "id": "237ff791-fa31-4a1d-8d2b-8aefacc1679b",
   "metadata": {},
   "outputs": [],
   "source": [
    "# Define the R value for the inequality constraint\n",
    "R = 0  # Replace with the desired value"
   ]
  },
  {
   "cell_type": "code",
   "execution_count": null,
   "id": "8fda8b97-0907-444b-b334-e2176fc40757",
   "metadata": {},
   "outputs": [],
   "source": [
    "# Define the inequality constraint bounds with R\n",
    "inequality_constraint_bounds = {'type': 'ineq', 'fun': constraint}"
   ]
  },
  {
   "cell_type": "code",
   "execution_count": null,
   "id": "b9f126c0-7ac9-4e3c-ad2e-e62172a8ff1f",
   "metadata": {},
   "outputs": [],
   "source": [
    "# Solve the optimization problem\n",
    "solution = minimize(objective, initial_guess, method='SLSQP', bounds=bounds, constraints=[inequality_constraint_bounds])"
   ]
  },
  {
   "cell_type": "code",
   "execution_count": null,
   "id": "bed3b0ce-0714-4b4f-b93c-264b58ae99c2",
   "metadata": {},
   "outputs": [],
   "source": [
    "# Print the optimal solution\n",
    "print(\"Optimal Solution:\")\n",
    "print(f\"x1 = {solution.x[0]}\")\n",
    "print(f\"x2 = {solution.x[1]}\")\n",
    "print(f\"x3 = {solution.x[2]}\")\n",
    "print(f\"Minimum Value = {solution.fun}\")"
   ]
  }
 ],
 "metadata": {
  "kernelspec": {
   "display_name": "Python 3 (ipykernel)",
   "language": "python",
   "name": "python3"
  },
  "language_info": {
   "codemirror_mode": {
    "name": "ipython",
    "version": 3
   },
   "file_extension": ".py",
   "mimetype": "text/x-python",
   "name": "python",
   "nbconvert_exporter": "python",
   "pygments_lexer": "ipython3",
   "version": "3.9.18"
  }
 },
 "nbformat": 4,
 "nbformat_minor": 5
}
