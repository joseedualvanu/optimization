{
 "cells": [
  {
   "cell_type": "code",
   "execution_count": null,
   "id": "644665a5-a968-4ab9-878f-09afe565ff73",
   "metadata": {},
   "outputs": [],
   "source": [
    "import cvxpy as cp"
   ]
  },
  {
   "cell_type": "code",
   "execution_count": null,
   "id": "ced3434f-8f91-42c6-b60b-42d51252f1c4",
   "metadata": {},
   "outputs": [],
   "source": [
    "# Define the decision variables\n",
    "x1 = cp.Variable()\n",
    "x2 = cp.Variable()\n",
    "x3 = cp.Variable()"
   ]
  },
  {
   "cell_type": "code",
   "execution_count": null,
   "id": "9c700403-1122-4fa1-905d-62e724972a93",
   "metadata": {},
   "outputs": [],
   "source": [
    "# Define the objective function\n",
    "objective = cp.Minimize(100 * x1**2 + 1600 * x2**2 + 100 * x3**2)"
   ]
  },
  {
   "cell_type": "code",
   "execution_count": null,
   "id": "40f73a94-3dae-42cb-893b-ef39347da731",
   "metadata": {},
   "outputs": [],
   "source": [
    "R = 200\n",
    "\n",
    "# Define the constraints\n",
    "constraints = [50 * x1 + 40 * x2 + 25 * x3 <= 100000, 55 * x1 + 50 * x2 + 20 * x3 >= R]"
   ]
  },
  {
   "cell_type": "code",
   "execution_count": null,
   "id": "08e47582-606b-4297-8f8b-76fa5186eb93",
   "metadata": {},
   "outputs": [],
   "source": [
    "# Create the problem instance\n",
    "problem = cp.Problem(objective, constraints)"
   ]
  },
  {
   "cell_type": "code",
   "execution_count": null,
   "id": "587271a8-07d2-4e96-83f8-814a7f1e3d87",
   "metadata": {},
   "outputs": [],
   "source": [
    "# Solve the problem\n",
    "problem.solve()"
   ]
  },
  {
   "cell_type": "code",
   "execution_count": null,
   "id": "3d774ec2-1e93-4236-8bbf-4cc40ce7a4f0",
   "metadata": {},
   "outputs": [],
   "source": [
    "# Print the optimal solution\n",
    "if problem.status == cp.OPTIMAL:\n",
    "    print(\"Optimal Solution:\")\n",
    "    print(f\"x1 = {x1.value}\")\n",
    "    print(f\"x2 = {x2.value}\")\n",
    "    print(f\"x3 = {x3.value}\")\n",
    "    print(f\"Minimum Value = {problem.value}\")\n",
    "else:\n",
    "    print(\"Problem is infeasible or unbounded.\")"
   ]
  }
 ],
 "metadata": {
  "kernelspec": {
   "display_name": "Python 3 (ipykernel)",
   "language": "python",
   "name": "python3"
  },
  "language_info": {
   "codemirror_mode": {
    "name": "ipython",
    "version": 3
   },
   "file_extension": ".py",
   "mimetype": "text/x-python",
   "name": "python",
   "nbconvert_exporter": "python",
   "pygments_lexer": "ipython3",
   "version": "3.9.18"
  }
 },
 "nbformat": 4,
 "nbformat_minor": 5
}
