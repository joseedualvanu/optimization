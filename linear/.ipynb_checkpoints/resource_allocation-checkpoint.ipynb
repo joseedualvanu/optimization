{
 "cells": [
  {
   "cell_type": "code",
   "execution_count": 1,
   "id": "cb9e12a2-f15c-4808-9a65-dc5a11d52e36",
   "metadata": {},
   "outputs": [],
   "source": [
    "# In this example, we have three resources (resource 1, resource 2, and resource 3) that can be allocated. \n",
    "# The objective is to maximize the total value obtained from allocating these resources. \n",
    "# The decision variables x1, x2, and x3 represent the amounts of resource 1, resource 2, and resource 3 allocated, respectively.\n",
    "\n",
    "# The constraints specify the limits on the available resources. \n",
    "# In this case, we have three constraints that restrict the total allocation of each resource.\n",
    "from pulp import *"
   ]
  },
  {
   "cell_type": "code",
   "execution_count": 2,
   "id": "8fe297c8-08e0-4d54-bf66-7f2c5b875fae",
   "metadata": {},
   "outputs": [],
   "source": [
    "# Create the LP problem\n",
    "prob = LpProblem(\"Resource_Allocation\", LpMaximize)"
   ]
  },
  {
   "cell_type": "code",
   "execution_count": 3,
   "id": "940fdcb8-ffee-44b9-a6e0-bf6c988996fd",
   "metadata": {},
   "outputs": [],
   "source": [
    "# Define the decision variables\n",
    "x1 = LpVariable(\"x1\", lowBound=0)  # Amount of resource 1 allocated\n",
    "x2 = LpVariable(\"x2\", lowBound=0)  # Amount of resource 2 allocated\n",
    "x3 = LpVariable(\"x3\", lowBound=0)  # Amount of resource 3 allocated"
   ]
  },
  {
   "cell_type": "code",
   "execution_count": 16,
   "id": "beab01ed-6010-40f8-a0bb-52ffa5213e5d",
   "metadata": {},
   "outputs": [],
   "source": [
    "# Define the objective function\n",
    "prob += 6 * x1 + 8 * x2 + 3 * x3  # Maximize the total value"
   ]
  },
  {
   "cell_type": "code",
   "execution_count": 17,
   "id": "531b1d61-6d99-4bfa-9581-146b87c567c9",
   "metadata": {},
   "outputs": [],
   "source": [
    "# Define the constraints\n",
    "prob += 2 * x1 + 3 * x2 + 1 * x3 <= 100  # Resource 1 constraint\n",
    "prob += 1 * x1 + 2 * x2 + 2 * x3 <= 90   # Resource 2 constraint\n",
    "prob += 4 * x1 + 1 * x2 + 2 * x3 <= 80   # Resource 3 constraint"
   ]
  },
  {
   "cell_type": "code",
   "execution_count": 18,
   "id": "ed704c32-fc37-46b1-8615-e7f2a4f03fe6",
   "metadata": {},
   "outputs": [
    {
     "name": "stdout",
     "output_type": "stream",
     "text": [
      "Welcome to the CBC MILP Solver \n",
      "Version: 2.10.3 \n",
      "Build Date: Dec 15 2019 \n",
      "\n",
      "command line - /opt/anaconda3/lib/python3.9/site-packages/pulp/solverdir/cbc/osx/64/cbc /var/folders/1c/tdf309cs08bg8m50s60l_kcr0000gn/T/e3020b319ce440c282d83109273cb5a0-pulp.mps max timeMode elapsed branch printingOptions all solution /var/folders/1c/tdf309cs08bg8m50s60l_kcr0000gn/T/e3020b319ce440c282d83109273cb5a0-pulp.sol (default strategy 1)\n",
      "At line 2 NAME          MODEL\n",
      "At line 3 ROWS\n",
      "At line 17 COLUMNS\n",
      "At line 57 RHS\n",
      "At line 70 BOUNDS\n",
      "At line 71 ENDATA\n",
      "Problem MODEL has 12 rows, 3 columns and 36 elements\n",
      "Coin0008I MODEL read with 0 errors\n",
      "Option for timeMode changed from cpu to elapsed\n",
      "Presolve 3 (-9) rows, 3 (0) columns and 9 (-27) elements\n",
      "0  Obj -0 Dual inf 16.999997 (3)\n",
      "3  Obj 276\n",
      "Optimal - objective value 276\n",
      "After Postsolve, objective 276, infeasibilities - dual 0 (0), primal 0 (0)\n",
      "Optimal objective 276 - 3 iterations time 0.002, Presolve 0.00\n",
      "Option for printingOptions changed from normal to all\n",
      "Total time (CPU seconds):       0.00   (Wallclock seconds):       0.00\n",
      "\n"
     ]
    },
    {
     "data": {
      "text/plain": [
       "1"
      ]
     },
     "execution_count": 18,
     "metadata": {},
     "output_type": "execute_result"
    }
   ],
   "source": [
    "# Solve the LP problem\n",
    "prob.solve()"
   ]
  },
  {
   "cell_type": "code",
   "execution_count": 19,
   "id": "2db85600-4953-432c-a65a-42b19bc15cba",
   "metadata": {},
   "outputs": [
    {
     "name": "stdout",
     "output_type": "stream",
     "text": [
      "Status: Optimal\n",
      "x1 = 4.6666667\n",
      "x2 = 24.0\n",
      "x3 = 18.666667\n",
      "Total value = 276.0000012\n"
     ]
    }
   ],
   "source": [
    "# Print the solution status\n",
    "print(\"Status:\", LpStatus[prob.status])\n",
    "\n",
    "# Print the optimal solution\n",
    "for v in prob.variables():\n",
    "    print(v.name, \"=\", v.varValue)\n",
    "\n",
    "# Print the optimal objective value\n",
    "print(\"Total value =\", value(prob.objective))"
   ]
  },
  {
   "cell_type": "code",
   "execution_count": null,
   "id": "fdf30dac-a954-4fbe-ab5a-a2971dba48f5",
   "metadata": {},
   "outputs": [],
   "source": []
  }
 ],
 "metadata": {
  "kernelspec": {
   "display_name": "Python 3 (ipykernel)",
   "language": "python",
   "name": "python3"
  },
  "language_info": {
   "codemirror_mode": {
    "name": "ipython",
    "version": 3
   },
   "file_extension": ".py",
   "mimetype": "text/x-python",
   "name": "python",
   "nbconvert_exporter": "python",
   "pygments_lexer": "ipython3",
   "version": "3.9.18"
  }
 },
 "nbformat": 4,
 "nbformat_minor": 5
}
