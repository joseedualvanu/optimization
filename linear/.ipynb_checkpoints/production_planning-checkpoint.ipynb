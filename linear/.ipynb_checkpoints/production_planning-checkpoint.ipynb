{
 "cells": [
  {
   "cell_type": "code",
   "execution_count": 1,
   "id": "f7cedacb-cdd3-4ea6-a841-299ed97edd84",
   "metadata": {},
   "outputs": [],
   "source": [
    "# In this example, we have a production planning problem where \n",
    "# we want to determine the quantities of two products (product 1 and product 2) to produce. \n",
    "# The objective is to minimize the total production cost.\n",
    "\n",
    "# The decision variables x1 and x2 represent the quantities of product 1 and product 2 to produce, respectively. \n",
    "# Note that I've set the cat parameter to 'Integer' to indicate that the decision variables should be integer values.\n",
    "\n",
    "# The constraints specify the availability of resources required for production.\n",
    "# In this case, we have three constraints that ensure that the resources are sufficient to meet the production requirements.\n",
    "\n",
    "from pulp import *"
   ]
  },
  {
   "cell_type": "code",
   "execution_count": 2,
   "id": "f522da58-c68e-4818-8e72-ae4507b3a03b",
   "metadata": {},
   "outputs": [
    {
     "name": "stderr",
     "output_type": "stream",
     "text": [
      "/opt/anaconda3/lib/python3.9/site-packages/pulp/pulp.py:1352: UserWarning: Spaces are not permitted in the name. Converted to '_'\n",
      "  warnings.warn(\"Spaces are not permitted in the name. Converted to '_'\")\n"
     ]
    }
   ],
   "source": [
    "# Create the LP problem\n",
    "prob = LpProblem(\"Production Planning\", LpMinimize)"
   ]
  },
  {
   "cell_type": "code",
   "execution_count": 3,
   "id": "12ee36b5-cb5a-4524-9c04-06e77a50f9d7",
   "metadata": {},
   "outputs": [],
   "source": [
    "# Define the decision variables\n",
    "x1 = LpVariable(\"x1\", lowBound=0, cat='Integer')  # Quantity of product 1 to produce\n",
    "x2 = LpVariable(\"x2\", lowBound=0, cat='Integer')  # Quantity of product 2 to produce"
   ]
  },
  {
   "cell_type": "code",
   "execution_count": 4,
   "id": "95fc3831-0755-4e75-93dd-fec4f64f93da",
   "metadata": {},
   "outputs": [],
   "source": [
    "# Define the objective function\n",
    "prob += 5 * x1 + 8 * x2  # Minimize the total production cost"
   ]
  },
  {
   "cell_type": "code",
   "execution_count": 5,
   "id": "5974965c-7a22-475c-9f33-06f7d67bc989",
   "metadata": {},
   "outputs": [],
   "source": [
    "# Define the constraints\n",
    "prob += 2 * x1 + 3 * x2 >= 100  # Resource 1 constraint\n",
    "prob += 1 * x1 + 2 * x2 >= 90   # Resource 2 constraint\n",
    "prob += 4 * x1 + 1 * x2 >= 80   # Resource 3 constraint"
   ]
  },
  {
   "cell_type": "code",
   "execution_count": 6,
   "id": "e7b1cb2b-cf33-4b55-ad62-4cda9fe13dcf",
   "metadata": {},
   "outputs": [
    {
     "name": "stdout",
     "output_type": "stream",
     "text": [
      "Welcome to the CBC MILP Solver \n",
      "Version: 2.10.3 \n",
      "Build Date: Dec 15 2019 \n",
      "\n",
      "command line - /opt/anaconda3/lib/python3.9/site-packages/pulp/solverdir/cbc/osx/64/cbc /var/folders/1c/tdf309cs08bg8m50s60l_kcr0000gn/T/f59a21f6a63448269c30cc02dffaa4ef-pulp.mps timeMode elapsed branch printingOptions all solution /var/folders/1c/tdf309cs08bg8m50s60l_kcr0000gn/T/f59a21f6a63448269c30cc02dffaa4ef-pulp.sol (default strategy 1)\n",
      "At line 2 NAME          MODEL\n",
      "At line 3 ROWS\n",
      "At line 8 COLUMNS\n",
      "At line 21 RHS\n",
      "At line 25 BOUNDS\n",
      "At line 28 ENDATA\n",
      "Problem MODEL has 3 rows, 2 columns and 6 elements\n",
      "Coin0008I MODEL read with 0 errors\n",
      "Option for timeMode changed from cpu to elapsed\n",
      "Continuous objective value is 370 - 0.00 seconds\n",
      "Cgl0003I 0 fixed, 2 tightened bounds, 0 strengthened rows, 0 substitutions\n",
      "Cgl0004I processed model has 3 rows, 2 columns (2 integer (0 of which binary)) and 6 elements\n",
      "Cutoff increment increased from 1e-05 to 0.9999\n",
      "Cbc0012I Integer solution of 370 found by greedy cover after 0 iterations and 0 nodes (0.04 seconds)\n",
      "Cbc0001I Search completed - best objective 370, took 0 iterations and 0 nodes (0.04 seconds)\n",
      "Cbc0035I Maximum depth 0, 0 variables fixed on reduced cost\n",
      "Cuts at root node changed objective from 370 to 370\n",
      "Probing was tried 0 times and created 0 cuts of which 0 were active after adding rounds of cuts (0.000 seconds)\n",
      "Gomory was tried 0 times and created 0 cuts of which 0 were active after adding rounds of cuts (0.000 seconds)\n",
      "Knapsack was tried 0 times and created 0 cuts of which 0 were active after adding rounds of cuts (0.000 seconds)\n",
      "Clique was tried 0 times and created 0 cuts of which 0 were active after adding rounds of cuts (0.000 seconds)\n",
      "MixedIntegerRounding2 was tried 0 times and created 0 cuts of which 0 were active after adding rounds of cuts (0.000 seconds)\n",
      "FlowCover was tried 0 times and created 0 cuts of which 0 were active after adding rounds of cuts (0.000 seconds)\n",
      "TwoMirCuts was tried 0 times and created 0 cuts of which 0 were active after adding rounds of cuts (0.000 seconds)\n",
      "ZeroHalf was tried 0 times and created 0 cuts of which 0 were active after adding rounds of cuts (0.000 seconds)\n",
      "\n",
      "Result - Optimal solution found\n",
      "\n",
      "Objective value:                370.00000000\n",
      "Enumerated nodes:               0\n",
      "Total iterations:               0\n",
      "Time (CPU seconds):             0.00\n",
      "Time (Wallclock seconds):       0.04\n",
      "\n",
      "Option for printingOptions changed from normal to all\n",
      "Total time (CPU seconds):       0.00   (Wallclock seconds):       0.05\n",
      "\n"
     ]
    },
    {
     "data": {
      "text/plain": [
       "1"
      ]
     },
     "execution_count": 6,
     "metadata": {},
     "output_type": "execute_result"
    }
   ],
   "source": [
    "# Solve the LP problem\n",
    "prob.solve()"
   ]
  },
  {
   "cell_type": "code",
   "execution_count": 7,
   "id": "d44a9425-5d04-4ea5-9490-e12cf6952d68",
   "metadata": {},
   "outputs": [
    {
     "name": "stdout",
     "output_type": "stream",
     "text": [
      "Status: Optimal\n",
      "x1 = 10.0\n",
      "x2 = 40.0\n",
      "Total cost = 370.0\n"
     ]
    }
   ],
   "source": [
    "# Print the solution status\n",
    "print(\"Status:\", LpStatus[prob.status])\n",
    "\n",
    "# Print the optimal solution\n",
    "for v in prob.variables():\n",
    "    print(v.name, \"=\", v.varValue)\n",
    "\n",
    "# Print the optimal objective value\n",
    "print(\"Total cost =\", value(prob.objective))"
   ]
  },
  {
   "cell_type": "code",
   "execution_count": null,
   "id": "9d002e76-6c04-44de-8288-eda92daeaf94",
   "metadata": {},
   "outputs": [],
   "source": []
  }
 ],
 "metadata": {
  "kernelspec": {
   "display_name": "Python 3 (ipykernel)",
   "language": "python",
   "name": "python3"
  },
  "language_info": {
   "codemirror_mode": {
    "name": "ipython",
    "version": 3
   },
   "file_extension": ".py",
   "mimetype": "text/x-python",
   "name": "python",
   "nbconvert_exporter": "python",
   "pygments_lexer": "ipython3",
   "version": "3.9.18"
  }
 },
 "nbformat": 4,
 "nbformat_minor": 5
}
