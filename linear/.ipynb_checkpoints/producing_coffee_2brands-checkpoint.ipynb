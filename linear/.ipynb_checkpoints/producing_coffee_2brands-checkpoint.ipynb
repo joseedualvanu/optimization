{
 "cells": [
  {
   "cell_type": "code",
   "execution_count": 1,
   "id": "18e7773d-9614-487d-89a2-17a40e4f1bc5",
   "metadata": {},
   "outputs": [],
   "source": [
    "# To summarize, this optimization model aims to determine the optimal amounts of coffee1 and coffee2 to produce in order to maximize profit, \n",
    "# while satisfying the given constraints on coffee consumption, labor, and machine availability. \n",
    "# The code sets up the problem, defines the objective function and constraints, solves the problem, and displays the optimal solution.\n",
    "\n",
    "from pulp import LpProblem, LpVariable, LpMaximize, lpSum, value"
   ]
  },
  {
   "cell_type": "code",
   "execution_count": 2,
   "id": "d6cabff1-6c4c-42cf-a3e3-dbc45271c175",
   "metadata": {},
   "outputs": [],
   "source": [
    "# Create the problem instance\n",
    "problem = LpProblem(\"ProfitMaximization\", LpMaximize)"
   ]
  },
  {
   "cell_type": "code",
   "execution_count": 3,
   "id": "eed02d93-1b55-444f-a356-1fe285fd457f",
   "metadata": {},
   "outputs": [],
   "source": [
    "# Define the decision variables\n",
    "# coffee1 kg\n",
    "x1 = LpVariable(\"x1\", lowBound=0) \n",
    "# coffee2 kg\n",
    "x2 = LpVariable(\"x2\", lowBound=0)"
   ]
  },
  {
   "cell_type": "code",
   "execution_count": 4,
   "id": "ae73ba0d-dbea-4573-9aac-bfc3ae98d8ba",
   "metadata": {},
   "outputs": [],
   "source": [
    "# Define the objective function\n",
    "# profit per coffee1 kg and coffee2 kg\n",
    "objective = 700 * x1 + 900 * x2\n",
    "problem += objective"
   ]
  },
  {
   "cell_type": "code",
   "execution_count": 5,
   "id": "ce0910ff-2701-4707-9d2b-b25d17a02049",
   "metadata": {},
   "outputs": [],
   "source": [
    "# Define the constraints\n",
    "# coffee consumption\n",
    "problem += 3 * x1 + 5 * x2 <= 3600\n",
    "# labor\n",
    "problem += x1 + 2 * x2 <= 1600\n",
    "# machine\n",
    "problem += 50 * x1 + 20 * x2 <= 48000"
   ]
  },
  {
   "cell_type": "code",
   "execution_count": 6,
   "id": "5f98357b-5bfe-4e0e-b556-90605f9216ce",
   "metadata": {},
   "outputs": [
    {
     "name": "stdout",
     "output_type": "stream",
     "text": [
      "Welcome to the CBC MILP Solver \n",
      "Version: 2.10.3 \n",
      "Build Date: Dec 15 2019 \n",
      "\n",
      "command line - /opt/anaconda3/lib/python3.9/site-packages/pulp/solverdir/cbc/osx/64/cbc /var/folders/1c/tdf309cs08bg8m50s60l_kcr0000gn/T/6e5239143bef4952bbe77737a6ab04e9-pulp.mps max timeMode elapsed branch printingOptions all solution /var/folders/1c/tdf309cs08bg8m50s60l_kcr0000gn/T/6e5239143bef4952bbe77737a6ab04e9-pulp.sol (default strategy 1)\n",
      "At line 2 NAME          MODEL\n",
      "At line 3 ROWS\n",
      "At line 8 COLUMNS\n",
      "At line 17 RHS\n",
      "At line 21 BOUNDS\n",
      "At line 22 ENDATA\n",
      "Problem MODEL has 3 rows, 2 columns and 6 elements\n",
      "Coin0008I MODEL read with 0 errors\n",
      "Option for timeMode changed from cpu to elapsed\n",
      "Presolve 3 (0) rows, 2 (0) columns and 6 (0) elements\n",
      "0  Obj -0 Dual inf 1600 (2)\n",
      "0  Obj -0 Dual inf 1600 (2)\n",
      "2  Obj 789473.68\n",
      "Optimal - objective value 789473.68\n",
      "Optimal objective 789473.6842 - 2 iterations time 0.002\n",
      "Option for printingOptions changed from normal to all\n",
      "Total time (CPU seconds):       0.00   (Wallclock seconds):       0.01\n",
      "\n"
     ]
    },
    {
     "data": {
      "text/plain": [
       "1"
      ]
     },
     "execution_count": 6,
     "metadata": {},
     "output_type": "execute_result"
    }
   ],
   "source": [
    "# Solve the problem\n",
    "problem.solve()"
   ]
  },
  {
   "cell_type": "code",
   "execution_count": 7,
   "id": "42928d08-2935-44f4-974f-94e9d819707f",
   "metadata": {},
   "outputs": [
    {
     "name": "stdout",
     "output_type": "stream",
     "text": [
      "Optimal Solution:\n",
      "coffee 1 kg (x1) = 884.21053\n",
      "coffee 2 kg (x2) = 189.47368\n",
      "Maximum Profit ($)= 789473.683\n"
     ]
    }
   ],
   "source": [
    "# Print the optimal solution\n",
    "print(\"Optimal Solution:\")\n",
    "print(f\"coffee 1 kg (x1) = {value(x1)}\")\n",
    "print(f\"coffee 2 kg (x2) = {value(x2)}\")\n",
    "print(f\"Maximum Profit ($)= {value(objective)}\")"
   ]
  },
  {
   "cell_type": "code",
   "execution_count": null,
   "id": "249f8cad-28a2-44e4-a44d-496eca367ea7",
   "metadata": {},
   "outputs": [],
   "source": []
  }
 ],
 "metadata": {
  "kernelspec": {
   "display_name": "Python 3 (ipykernel)",
   "language": "python",
   "name": "python3"
  },
  "language_info": {
   "codemirror_mode": {
    "name": "ipython",
    "version": 3
   },
   "file_extension": ".py",
   "mimetype": "text/x-python",
   "name": "python",
   "nbconvert_exporter": "python",
   "pygments_lexer": "ipython3",
   "version": "3.9.18"
  }
 },
 "nbformat": 4,
 "nbformat_minor": 5
}
