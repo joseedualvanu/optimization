{
 "cells": [
  {
   "cell_type": "code",
   "execution_count": 1,
   "id": "c303b42d-b1f0-40e4-8b26-9d32ba4e1d60",
   "metadata": {},
   "outputs": [],
   "source": [
    "# The optimal solution provides a personnel schedule that minimizes the staffing costs while ensuring that each day's staffing requirements are met. \n",
    "# For example, it tells you how many employees should work on each day to efficiently allocate resources. \n",
    "# You can use this schedule for workforce planning and staffing management.\n",
    "from pulp import LpProblem, LpVariable, LpMinimize, lpSum, value"
   ]
  },
  {
   "cell_type": "code",
   "execution_count": 2,
   "id": "fea19a6f-6322-41a9-ba63-2f90b7abb270",
   "metadata": {},
   "outputs": [],
   "source": [
    "# Create the problem instance\n",
    "problem = LpProblem(\"MinimizationProblem\", LpMinimize)"
   ]
  },
  {
   "cell_type": "code",
   "execution_count": 3,
   "id": "63ae17c1-2293-4942-b888-22ca1676e729",
   "metadata": {},
   "outputs": [],
   "source": [
    "# Define the decision variables\n",
    "# Linear\n",
    "#x = [LpVariable(f\"x{i}\", lowBound=0) for i in range(1, 8)]\n",
    "# Integer\n",
    "x = [LpVariable(f\"x{i}\", lowBound=0, cat='Integer') for i in range(1, 8)]"
   ]
  },
  {
   "cell_type": "code",
   "execution_count": 4,
   "id": "aef40ee1-0922-472f-b99d-fc9a6591762a",
   "metadata": {},
   "outputs": [],
   "source": [
    "# Define the objective function\n",
    "objective = lpSum(x)\n",
    "problem += objective"
   ]
  },
  {
   "cell_type": "code",
   "execution_count": 5,
   "id": "095e1b29-ada0-4a57-b688-f756932dac02",
   "metadata": {},
   "outputs": [],
   "source": [
    "# Define the constraints\n",
    "# Monday\n",
    "problem += lpSum([x[0], x[3], x[4], x[5], x[6]]) >= 20\n",
    "# Tuesday \n",
    "problem += lpSum([x[0], x[1], x[4], x[5], x[6]]) >= 18\n",
    "# Wednesday\n",
    "problem += lpSum([x[0], x[1], x[2], x[5], x[6]]) >= 15\n",
    "# Thursday\n",
    "problem += lpSum([x[0], x[1], x[2], x[3], x[6]]) >= 13\n",
    "# Friday\n",
    "problem += lpSum([x[0], x[1], x[2], x[3], x[4]]) >= 22\n",
    "# Saturday\n",
    "problem += lpSum([x[1], x[2], x[3], x[4], x[5]]) >= 16\n",
    "# Sunday\n",
    "problem += lpSum([x[2], x[3], x[4], x[5], x[6]]) >= 12"
   ]
  },
  {
   "cell_type": "code",
   "execution_count": 6,
   "id": "5948be77-57e5-4cbe-bcac-13c38132ae52",
   "metadata": {},
   "outputs": [
    {
     "name": "stdout",
     "output_type": "stream",
     "text": [
      "Welcome to the CBC MILP Solver \n",
      "Version: 2.10.3 \n",
      "Build Date: Dec 15 2019 \n",
      "\n",
      "command line - /opt/anaconda3/lib/python3.9/site-packages/pulp/solverdir/cbc/osx/64/cbc /var/folders/1c/tdf309cs08bg8m50s60l_kcr0000gn/T/985d1c837a8f4f9ab289568368b9bc15-pulp.mps timeMode elapsed branch printingOptions all solution /var/folders/1c/tdf309cs08bg8m50s60l_kcr0000gn/T/985d1c837a8f4f9ab289568368b9bc15-pulp.sol (default strategy 1)\n",
      "At line 2 NAME          MODEL\n",
      "At line 3 ROWS\n",
      "At line 12 COLUMNS\n",
      "At line 69 RHS\n",
      "At line 77 BOUNDS\n",
      "At line 85 ENDATA\n",
      "Problem MODEL has 7 rows, 7 columns and 35 elements\n",
      "Coin0008I MODEL read with 0 errors\n",
      "Option for timeMode changed from cpu to elapsed\n",
      "Continuous objective value is 24.3333 - 0.00 seconds\n",
      "Cgl0003I 0 fixed, 7 tightened bounds, 0 strengthened rows, 0 substitutions\n",
      "Cgl0004I processed model has 7 rows, 7 columns (7 integer (0 of which binary)) and 35 elements\n",
      "Cutoff increment increased from 1e-05 to 0.9999\n",
      "Cbc0012I Integer solution of 26 found by greedy cover after 0 iterations and 0 nodes (0.00 seconds)\n",
      "Cbc0012I Integer solution of 25 found by DiveCoefficient after 0 iterations and 0 nodes (0.00 seconds)\n",
      "Cbc0001I Search completed - best objective 25, took 0 iterations and 0 nodes (0.00 seconds)\n",
      "Cbc0035I Maximum depth 0, 0 variables fixed on reduced cost\n",
      "Cuts at root node changed objective from 24.3333 to 24.3333\n",
      "Probing was tried 0 times and created 0 cuts of which 0 were active after adding rounds of cuts (0.000 seconds)\n",
      "Gomory was tried 0 times and created 0 cuts of which 0 were active after adding rounds of cuts (0.000 seconds)\n",
      "Knapsack was tried 0 times and created 0 cuts of which 0 were active after adding rounds of cuts (0.000 seconds)\n",
      "Clique was tried 0 times and created 0 cuts of which 0 were active after adding rounds of cuts (0.000 seconds)\n",
      "MixedIntegerRounding2 was tried 0 times and created 0 cuts of which 0 were active after adding rounds of cuts (0.000 seconds)\n",
      "FlowCover was tried 0 times and created 0 cuts of which 0 were active after adding rounds of cuts (0.000 seconds)\n",
      "TwoMirCuts was tried 0 times and created 0 cuts of which 0 were active after adding rounds of cuts (0.000 seconds)\n",
      "ZeroHalf was tried 0 times and created 0 cuts of which 0 were active after adding rounds of cuts (0.000 seconds)\n",
      "\n",
      "Result - Optimal solution found\n",
      "\n",
      "Objective value:                25.00000000\n",
      "Enumerated nodes:               0\n",
      "Total iterations:               0\n",
      "Time (CPU seconds):             0.00\n",
      "Time (Wallclock seconds):       0.01\n",
      "\n",
      "Option for printingOptions changed from normal to all\n",
      "Total time (CPU seconds):       0.00   (Wallclock seconds):       0.01\n",
      "\n"
     ]
    },
    {
     "data": {
      "text/plain": [
       "1"
      ]
     },
     "execution_count": 6,
     "metadata": {},
     "output_type": "execute_result"
    }
   ],
   "source": [
    "# Solve the problem\n",
    "problem.solve()"
   ]
  },
  {
   "cell_type": "code",
   "execution_count": 7,
   "id": "f2294918-c5bf-41c2-b74b-4f98f8fa0459",
   "metadata": {},
   "outputs": [
    {
     "name": "stdout",
     "output_type": "stream",
     "text": [
      "Optimal Solution:\n",
      "x1 = 9.0\n",
      "x2 = 4.0\n",
      "x3 = 0.0\n",
      "x4 = 0.0\n",
      "x5 = 9.0\n",
      "x6 = 3.0\n",
      "x7 = 0.0\n",
      "Minimum Value = 25.0\n"
     ]
    }
   ],
   "source": [
    "# Print the optimal solution\n",
    "print(\"Optimal Solution:\")\n",
    "for var in x:\n",
    "    print(f\"{var.name} = {value(var)}\")\n",
    "print(f\"Minimum Value = {value(objective)}\")"
   ]
  },
  {
   "cell_type": "code",
   "execution_count": null,
   "id": "779e2e5e-20bf-4b2a-ab89-53f7690bc913",
   "metadata": {},
   "outputs": [],
   "source": []
  }
 ],
 "metadata": {
  "kernelspec": {
   "display_name": "Python 3 (ipykernel)",
   "language": "python",
   "name": "python3"
  },
  "language_info": {
   "codemirror_mode": {
    "name": "ipython",
    "version": 3
   },
   "file_extension": ".py",
   "mimetype": "text/x-python",
   "name": "python",
   "nbconvert_exporter": "python",
   "pygments_lexer": "ipython3",
   "version": "3.9.18"
  }
 },
 "nbformat": 4,
 "nbformat_minor": 5
}
